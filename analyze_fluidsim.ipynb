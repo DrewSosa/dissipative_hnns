{
 "cells": [
  {
   "cell_type": "code",
   "execution_count": 1,
   "metadata": {},
   "outputs": [],
   "source": [
    "import autograd\n",
    "\n",
    "import numpy as np\n",
    "import matplotlib.pyplot as plt\n",
    "from scipy.ndimage import gaussian_filter"
   ]
  },
  {
   "cell_type": "code",
   "execution_count": null,
   "metadata": {},
   "outputs": [],
   "source": []
  },
  {
   "cell_type": "code",
   "execution_count": 2,
   "metadata": {},
   "outputs": [],
   "source": [
    "def advect(f, vx, vy):\n",
    "  \"\"\"Instead of moving the cell centers forward in time using the velocity fields,\n",
    "  we look for the particles which end up exactly at the cell centers by tracing\n",
    "  backwards in time from the cell centers. See 'implicit Euler integration.'\"\"\"\n",
    "  rows, cols = f.shape\n",
    "  cell_xs, cell_ys = np.meshgrid(np.arange(cols), np.arange(rows))\n",
    "  center_xs = (cell_xs - vx).ravel()  # look backwards one timestep\n",
    "  center_ys = (cell_ys - vy).ravel()\n",
    "\n",
    "  left_ix = np.floor(center_ys).astype(int)  # get locations of source cells.\n",
    "  top_ix  = np.floor(center_xs).astype(int)\n",
    "  rw = center_ys - left_ix              # relative weight of cells on the right\n",
    "  bw = center_xs - top_ix               # same for cells on the bottom\n",
    "  left_ix  = np.mod(left_ix,     rows)  # wrap around edges of simulation.\n",
    "  right_ix = np.mod(left_ix + 1, rows)\n",
    "  top_ix   = np.mod(top_ix,      cols)\n",
    "  bot_ix   = np.mod(top_ix  + 1, cols)\n",
    "\n",
    "  # a linearly-weighted sum of the 4 cells closest to the source of the cell center.\n",
    "  flat_f = (1 - rw) * ((1 - bw)*f[left_ix,  top_ix] + bw*f[left_ix,  bot_ix]) \\\n",
    "                + rw * ((1 - bw)*f[right_ix, top_ix] + bw*f[right_ix, bot_ix])\n",
    "  return np.reshape(flat_f, (rows, cols))\n",
    "  \n",
    "def project(vx, vy, occlusion, width=0.4):\n",
    "  \"\"\"Project the velocity field to be approximately mass-conserving. Technically\n",
    "  we are finding an approximate solution to the Poisson equation.\"\"\"\n",
    "  p = np.zeros(vx.shape)\n",
    "  div = -0.5 * (np.roll(vx, -1, axis=1) - np.roll(vx, 1, axis=1)\n",
    "              + np.roll(vy, -1, axis=0) - np.roll(vy, 1, axis=0))\n",
    "  div = filter(div, occlusion, width=width)\n",
    "\n",
    "  for k in range(50):  # use gauss-seidel to approximately solve linear system\n",
    "      p = (div + np.roll(p, 1, axis=1) + np.roll(p, -1, axis=1)\n",
    "                + np.roll(p, 1, axis=0) + np.roll(p, -1, axis=0))/4.0\n",
    "      p = filter(p, occlusion, width=width)\n",
    "\n",
    "  vx = vx - 0.5*(np.roll(p, -1, axis=1) - np.roll(p, 1, axis=1))\n",
    "  vy = vy - 0.5*(np.roll(p, -1, axis=0) - np.roll(p, 1, axis=0))\n",
    "\n",
    "  vx = occlude(vx, occlusion)\n",
    "  vy = occlude(vy, occlusion)\n",
    "  return vx, vy\n",
    "\n",
    "def simulate(vx, vy, smoke, num_time_steps, ax=None, render=False):\n",
    "    print(\"Running simulation...\")\n",
    "    for t in range(num_time_steps):\n",
    "        if ax: plot_matrix(ax, smoke, t, render)\n",
    "        vx_updated = advect(vx, vx, vy)\n",
    "        vy_updated = advect(vy, vx, vy)\n",
    "        vx, vy = project(vx_updated, vy_updated)\n",
    "        smoke = advect(smoke, vx, vy)\n",
    "    if ax: plot_matrix(ax, smoke, num_time_steps, render)\n",
    "    return smoke"
   ]
  },
  {
   "cell_type": "code",
   "execution_count": null,
   "metadata": {},
   "outputs": [],
   "source": [
    "u, v = np.random.randn(x), np.random.randn(*x.shape)\n",
    "[u_rot, v_rot, u_irr, v_irr] = [gaussian_filter(v, 2) for v in [u_rot, v_rot, u_irr, v_irr]]"
   ]
  },
  {
   "cell_type": "code",
   "execution_count": null,
   "metadata": {},
   "outputs": [],
   "source": [
    "init_dx_and_dy = np.zeros((2, rows, cols)).ravel()\n",
    "\n",
    "fig = plt.figure(figsize=(8,8))\n",
    "ax = fig.add_subplot(111, frameon=False)\n",
    "    \n",
    "simulate(init_vx, init_vy, init_smoke, simulation_timesteps, ax)"
   ]
  }
 ],
 "metadata": {
  "kernelspec": {
   "display_name": "Python 3",
   "language": "python",
   "name": "python3"
  },
  "language_info": {
   "codemirror_mode": {
    "name": "ipython",
    "version": 3
   },
   "file_extension": ".py",
   "mimetype": "text/x-python",
   "name": "python",
   "nbconvert_exporter": "python",
   "pygments_lexer": "ipython3",
   "version": "3.8.2"
  }
 },
 "nbformat": 4,
 "nbformat_minor": 4
}
